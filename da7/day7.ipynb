{
 "cells": [
  {
   "cell_type": "code",
   "execution_count": null,
   "id": "e9086842-80dc-464a-ba20-a840f7ae2542",
   "metadata": {},
   "outputs": [],
   "source": [
    "3+4"
   ]
  },
  {
   "cell_type": "code",
   "execution_count": 2,
   "id": "225de0a1-ed92-472a-bfbe-aef9ee5e7c64",
   "metadata": {},
   "outputs": [
    {
     "name": "stdout",
     "output_type": "stream",
     "text": [
      "welcome to machine learning\n"
     ]
    }
   ],
   "source": [
    "print('welcome to machine learning')"
   ]
  },
  {
   "cell_type": "markdown",
   "id": "5e9dc5fe-b84a-411b-9736-7f67a819d131",
   "metadata": {},
   "source": [
    "# 1st heading"
   ]
  },
  {
   "cell_type": "markdown",
   "id": "1043e5e5-fd10-4fd4-bf5c-addc04f08210",
   "metadata": {},
   "source": [
    "## 2nd heading"
   ]
  },
  {
   "cell_type": "markdown",
   "id": "4af501ee-cf36-49a2-8942-16e20137ff9f",
   "metadata": {},
   "source": [
    "sub heading"
   ]
  },
  {
   "cell_type": "markdown",
   "id": "3d650d0f-ba38-410c-a245-19e96b7d371b",
   "metadata": {},
   "source": [
    "* this is first point\n",
    "* this is second point"
   ]
  },
  {
   "cell_type": "markdown",
   "id": "7960b87c-9df6-483e-8f08-774ed10f3590",
   "metadata": {},
   "source": [
    "1. this is third point\n",
    "2. this is fourth point"
   ]
  },
  {
   "cell_type": "markdown",
   "id": "0e8de0fe-725d-4829-a6d3-4cdd0f2c3a8f",
   "metadata": {},
   "source": [
    "##2 nd heading"
   ]
  },
  {
   "cell_type": "markdown",
   "id": "46617dda-8f31-4512-b865-0fa86aa1f431",
   "metadata": {},
   "source": [
    "## 2nd heading"
   ]
  },
  {
   "cell_type": "code",
   "execution_count": 8,
   "id": "37fd25ae-8a5b-44b9-8c91-19df79007fac",
   "metadata": {},
   "outputs": [],
   "source": [
    "import os"
   ]
  },
  {
   "cell_type": "markdown",
   "id": "d4c00c4c-50ae-40f5-91d1-f2fffc0c9e3a",
   "metadata": {},
   "source": [
    "os.getcwd()"
   ]
  },
  {
   "cell_type": "code",
   "execution_count": 9,
   "id": "010da7ff-beff-4282-9846-4da7628a9420",
   "metadata": {},
   "outputs": [],
   "source": [
    "import os"
   ]
  },
  {
   "cell_type": "code",
   "execution_count": 10,
   "id": "9c3df1ec-b713-471f-a1b6-b322f2d13ef7",
   "metadata": {},
   "outputs": [
    {
     "data": {
      "text/plain": [
       "'C:\\\\Users\\\\pc\\\\Desktop\\\\Traning python\\\\da7'"
      ]
     },
     "execution_count": 10,
     "metadata": {},
     "output_type": "execute_result"
    }
   ],
   "source": [
    "os.getcwd()"
   ]
  },
  {
   "cell_type": "code",
   "execution_count": 12,
   "id": "87f3c4c5-ba00-41a5-adcd-65e784fd94cc",
   "metadata": {},
   "outputs": [],
   "source": [
    "os.chdir('C:\\\\Users\\\\pc\\\\Desktop\\\\Traning python\\\\day7')"
   ]
  },
  {
   "cell_type": "code",
   "execution_count": 14,
   "id": "6b800b4a-1aa1-4979-b2fd-eafbc3fae529",
   "metadata": {},
   "outputs": [
    {
     "data": {
      "text/plain": [
       "['.ipynb_checkpoints', 'day7.ipynb']"
      ]
     },
     "execution_count": 14,
     "metadata": {},
     "output_type": "execute_result"
    }
   ],
   "source": [
    "os.listdir('C:\\\\Users\\\\pc\\\\Desktop\\\\Traning python\\\\da7')"
   ]
  },
  {
   "cell_type": "code",
   "execution_count": 15,
   "id": "eb1d6f7b-ceda-4fc7-833e-6d7964b70368",
   "metadata": {},
   "outputs": [],
   "source": [
    "# To make a folder\n",
    "os.mkdir('empty_folder')"
   ]
  },
  {
   "cell_type": "code",
   "execution_count": 16,
   "id": "3ce179c2-de42-478b-936e-9c3c8d89c03d",
   "metadata": {},
   "outputs": [],
   "source": [
    "# to remove a folder\n",
    "os.rmdir('empty_folder')"
   ]
  },
  {
   "cell_type": "markdown",
   "id": "b61254cf-8cfa-4d7c-a281-f3b9310b4f1c",
   "metadata": {},
   "source": [
    "## random"
   ]
  },
  {
   "cell_type": "code",
   "execution_count": 17,
   "id": "4c749448-34bd-419d-8217-cda3cbe05abe",
   "metadata": {},
   "outputs": [],
   "source": [
    "import random"
   ]
  },
  {
   "cell_type": "code",
   "execution_count": 18,
   "id": "8544c42e-bd51-4998-ba02-1402745eb238",
   "metadata": {},
   "outputs": [
    {
     "name": "stdout",
     "output_type": "stream",
     "text": [
      "0.9770466789861249\n"
     ]
    }
   ],
   "source": [
    "val = random.random()\n",
    "print(val)"
   ]
  },
  {
   "cell_type": "code",
   "execution_count": 21,
   "id": "7516cd75-bb2e-46e4-a2f9-495049a9359b",
   "metadata": {},
   "outputs": [
    {
     "name": "stdout",
     "output_type": "stream",
     "text": [
      "1\n"
     ]
    }
   ],
   "source": [
    "val2 = random.randint(1,10)\n",
    "print(val2)\n"
   ]
  },
  {
   "cell_type": "code",
   "execution_count": 22,
   "id": "dfd8bb47-a98f-4770-b8b1-277b55642cad",
   "metadata": {},
   "outputs": [
    {
     "name": "stdout",
     "output_type": "stream",
     "text": [
      "hello\n"
     ]
    }
   ],
   "source": [
    "m =['hi','hello','hayy','howdy']\n",
    "val =random.choice(m)\n",
    "print(val)"
   ]
  },
  {
   "cell_type": "code",
   "execution_count": 23,
   "id": "4a3d07df-267e-4baf-8411-7def78ecc837",
   "metadata": {},
   "outputs": [
    {
     "name": "stdout",
     "output_type": "stream",
     "text": [
      "['hi', 'hello', 'hi']\n"
     ]
    }
   ],
   "source": [
    "m =['hi','hello','hayy','howdy']\n",
    "val =random.choices(m,k=3)\n",
    "print(val)"
   ]
  },
  {
   "cell_type": "code",
   "execution_count": 24,
   "id": "f9d37d48-1cfa-4e9f-831c-26be1604b964",
   "metadata": {},
   "outputs": [
    {
     "name": "stdout",
     "output_type": "stream",
     "text": [
      "['hayy', 'hello', 'howdy', 'hi']\n"
     ]
    }
   ],
   "source": [
    "#shuffle\n",
    "random.shuffle(m)\n",
    "print(m)"
   ]
  },
  {
   "cell_type": "code",
   "execution_count": null,
   "id": "d98b12ee-40bb-4a64-8cdf-ee0a6869e8a3",
   "metadata": {},
   "outputs": [],
   "source": []
  }
 ],
 "metadata": {
  "kernelspec": {
   "display_name": "Python 3 (ipykernel)",
   "language": "python",
   "name": "python3"
  },
  "language_info": {
   "codemirror_mode": {
    "name": "ipython",
    "version": 3
   },
   "file_extension": ".py",
   "mimetype": "text/x-python",
   "name": "python",
   "nbconvert_exporter": "python",
   "pygments_lexer": "ipython3",
   "version": "3.9.12"
  }
 },
 "nbformat": 4,
 "nbformat_minor": 5
}
